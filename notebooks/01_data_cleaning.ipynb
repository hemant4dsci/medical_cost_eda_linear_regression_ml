{
 "cells": [
  {
   "cell_type": "markdown",
   "id": "9347f63d",
   "metadata": {},
   "source": [
    "># **Data Cleaning**"
   ]
  },
  {
   "cell_type": "code",
   "execution_count": 26,
   "id": "cbf14441",
   "metadata": {},
   "outputs": [],
   "source": [
    "import numpy as np\n",
    "import pandas as pd"
   ]
  },
  {
   "cell_type": "markdown",
   "id": "f3972b58",
   "metadata": {},
   "source": [
    "#### Importing the dataset"
   ]
  },
  {
   "cell_type": "code",
   "execution_count": 27,
   "id": "bcad81c5",
   "metadata": {},
   "outputs": [
    {
     "data": {
      "application/vnd.microsoft.datawrangler.viewer.v0+json": {
       "columns": [
        {
         "name": "index",
         "rawType": "int64",
         "type": "integer"
        },
        {
         "name": "Age",
         "rawType": "int64",
         "type": "integer"
        },
        {
         "name": "Sex",
         "rawType": "object",
         "type": "string"
        },
        {
         "name": "BMI",
         "rawType": "float64",
         "type": "float"
        },
        {
         "name": "Children",
         "rawType": "int64",
         "type": "integer"
        },
        {
         "name": "Smoker",
         "rawType": "object",
         "type": "string"
        },
        {
         "name": "Region",
         "rawType": "object",
         "type": "string"
        },
        {
         "name": "Medical Cost",
         "rawType": "float64",
         "type": "float"
        }
       ],
       "ref": "d043a38e-f678-41ec-a171-b00f68792162",
       "rows": [
        [
         "0",
         "58",
         "male",
         "15.6",
         "2",
         "yes",
         "northwest",
         "17907.54"
        ],
        [
         "1",
         "24",
         "male",
         "29.8",
         "0",
         "yes",
         "northeast",
         "16312.64"
        ],
        [
         "2",
         "50",
         "male",
         "29.0",
         "5",
         "no",
         "northwest",
         "6819.21"
        ],
        [
         "3",
         "35",
         "male",
         "34.0",
         "1",
         "no",
         "southeast",
         "5247.87"
        ],
        [
         "4",
         "31",
         "female",
         "17.6",
         "3",
         "yes",
         "southeast",
         "17525.49"
        ]
       ],
       "shape": {
        "columns": 7,
        "rows": 5
       }
      },
      "text/html": [
       "<div>\n",
       "<style scoped>\n",
       "    .dataframe tbody tr th:only-of-type {\n",
       "        vertical-align: middle;\n",
       "    }\n",
       "\n",
       "    .dataframe tbody tr th {\n",
       "        vertical-align: top;\n",
       "    }\n",
       "\n",
       "    .dataframe thead th {\n",
       "        text-align: right;\n",
       "    }\n",
       "</style>\n",
       "<table border=\"1\" class=\"dataframe\">\n",
       "  <thead>\n",
       "    <tr style=\"text-align: right;\">\n",
       "      <th></th>\n",
       "      <th>Age</th>\n",
       "      <th>Sex</th>\n",
       "      <th>BMI</th>\n",
       "      <th>Children</th>\n",
       "      <th>Smoker</th>\n",
       "      <th>Region</th>\n",
       "      <th>Medical Cost</th>\n",
       "    </tr>\n",
       "  </thead>\n",
       "  <tbody>\n",
       "    <tr>\n",
       "      <th>0</th>\n",
       "      <td>58</td>\n",
       "      <td>male</td>\n",
       "      <td>15.6</td>\n",
       "      <td>2</td>\n",
       "      <td>yes</td>\n",
       "      <td>northwest</td>\n",
       "      <td>17907.54</td>\n",
       "    </tr>\n",
       "    <tr>\n",
       "      <th>1</th>\n",
       "      <td>24</td>\n",
       "      <td>male</td>\n",
       "      <td>29.8</td>\n",
       "      <td>0</td>\n",
       "      <td>yes</td>\n",
       "      <td>northeast</td>\n",
       "      <td>16312.64</td>\n",
       "    </tr>\n",
       "    <tr>\n",
       "      <th>2</th>\n",
       "      <td>50</td>\n",
       "      <td>male</td>\n",
       "      <td>29.0</td>\n",
       "      <td>5</td>\n",
       "      <td>no</td>\n",
       "      <td>northwest</td>\n",
       "      <td>6819.21</td>\n",
       "    </tr>\n",
       "    <tr>\n",
       "      <th>3</th>\n",
       "      <td>35</td>\n",
       "      <td>male</td>\n",
       "      <td>34.0</td>\n",
       "      <td>1</td>\n",
       "      <td>no</td>\n",
       "      <td>southeast</td>\n",
       "      <td>5247.87</td>\n",
       "    </tr>\n",
       "    <tr>\n",
       "      <th>4</th>\n",
       "      <td>31</td>\n",
       "      <td>female</td>\n",
       "      <td>17.6</td>\n",
       "      <td>3</td>\n",
       "      <td>yes</td>\n",
       "      <td>southeast</td>\n",
       "      <td>17525.49</td>\n",
       "    </tr>\n",
       "  </tbody>\n",
       "</table>\n",
       "</div>"
      ],
      "text/plain": [
       "   Age     Sex   BMI  Children Smoker     Region  Medical Cost\n",
       "0   58    male  15.6         2    yes  northwest      17907.54\n",
       "1   24    male  29.8         0    yes  northeast      16312.64\n",
       "2   50    male  29.0         5     no  northwest       6819.21\n",
       "3   35    male  34.0         1     no  southeast       5247.87\n",
       "4   31  female  17.6         3    yes  southeast      17525.49"
      ]
     },
     "execution_count": 27,
     "metadata": {},
     "output_type": "execute_result"
    }
   ],
   "source": [
    "df = pd.read_csv(filepath_or_buffer=\"../data/raw/medical_costs.csv\")\n",
    "df.head()"
   ]
  },
  {
   "cell_type": "markdown",
   "id": "498b96ff",
   "metadata": {},
   "source": [
    "#### Changing columns to lower case"
   ]
  },
  {
   "cell_type": "code",
   "execution_count": 28,
   "id": "867cc9d2",
   "metadata": {},
   "outputs": [],
   "source": [
    "df.columns = df.columns.str.lower().str.replace(\" \", \"_\")"
   ]
  },
  {
   "cell_type": "markdown",
   "id": "a19db9b1",
   "metadata": {},
   "source": [
    "#### Removing duplicate entries if present"
   ]
  },
  {
   "cell_type": "code",
   "execution_count": 29,
   "id": "db6e9ee2",
   "metadata": {},
   "outputs": [],
   "source": [
    "df.drop_duplicates(inplace=True, ignore_index=True)"
   ]
  },
  {
   "cell_type": "code",
   "execution_count": 30,
   "id": "1ba17132",
   "metadata": {},
   "outputs": [
    {
     "name": "stdout",
     "output_type": "stream",
     "text": [
      "<class 'pandas.core.frame.DataFrame'>\n",
      "RangeIndex: 10000 entries, 0 to 9999\n",
      "Data columns (total 7 columns):\n",
      " #   Column        Non-Null Count  Dtype  \n",
      "---  ------        --------------  -----  \n",
      " 0   age           10000 non-null  int64  \n",
      " 1   sex           10000 non-null  object \n",
      " 2   bmi           10000 non-null  float64\n",
      " 3   children      10000 non-null  int64  \n",
      " 4   smoker        10000 non-null  object \n",
      " 5   region        10000 non-null  object \n",
      " 6   medical_cost  10000 non-null  float64\n",
      "dtypes: float64(2), int64(2), object(3)\n",
      "memory usage: 547.0+ KB\n"
     ]
    }
   ],
   "source": [
    "df.info()"
   ]
  },
  {
   "cell_type": "code",
   "execution_count": 31,
   "id": "e8868ca3",
   "metadata": {},
   "outputs": [
    {
     "data": {
      "application/vnd.microsoft.datawrangler.viewer.v0+json": {
       "columns": [
        {
         "name": "index",
         "rawType": "object",
         "type": "string"
        },
        {
         "name": "age",
         "rawType": "float64",
         "type": "float"
        },
        {
         "name": "bmi",
         "rawType": "float64",
         "type": "float"
        },
        {
         "name": "children",
         "rawType": "float64",
         "type": "float"
        },
        {
         "name": "medical_cost",
         "rawType": "float64",
         "type": "float"
        }
       ],
       "ref": "694c4b24-da42-447a-9ae6-92f54612c117",
       "rows": [
        [
         "count",
         "10000.0",
         "10000.0",
         "10000.0",
         "10000.0"
        ],
        [
         "mean",
         "41.6784",
         "27.40301",
         "2.5017",
         "11898.932216"
        ],
        [
         "std",
         "13.807723880635663",
         "7.22896007225608",
         "1.7016717305837419",
         "6073.8758338598855"
        ],
        [
         "min",
         "18.0",
         "15.0",
         "0.0",
         "3617.09"
        ],
        [
         "25%",
         "30.0",
         "21.1",
         "1.0",
         "5909.925"
        ],
        [
         "50%",
         "42.0",
         "27.4",
         "2.0",
         "7957.43"
        ],
        [
         "75%",
         "54.0",
         "33.7",
         "4.0",
         "17931.9625"
        ],
        [
         "max",
         "65.0",
         "40.0",
         "5.0",
         "20268.21"
        ]
       ],
       "shape": {
        "columns": 4,
        "rows": 8
       }
      },
      "text/html": [
       "<div>\n",
       "<style scoped>\n",
       "    .dataframe tbody tr th:only-of-type {\n",
       "        vertical-align: middle;\n",
       "    }\n",
       "\n",
       "    .dataframe tbody tr th {\n",
       "        vertical-align: top;\n",
       "    }\n",
       "\n",
       "    .dataframe thead th {\n",
       "        text-align: right;\n",
       "    }\n",
       "</style>\n",
       "<table border=\"1\" class=\"dataframe\">\n",
       "  <thead>\n",
       "    <tr style=\"text-align: right;\">\n",
       "      <th></th>\n",
       "      <th>age</th>\n",
       "      <th>bmi</th>\n",
       "      <th>children</th>\n",
       "      <th>medical_cost</th>\n",
       "    </tr>\n",
       "  </thead>\n",
       "  <tbody>\n",
       "    <tr>\n",
       "      <th>count</th>\n",
       "      <td>10000.000000</td>\n",
       "      <td>10000.00000</td>\n",
       "      <td>10000.000000</td>\n",
       "      <td>10000.000000</td>\n",
       "    </tr>\n",
       "    <tr>\n",
       "      <th>mean</th>\n",
       "      <td>41.678400</td>\n",
       "      <td>27.40301</td>\n",
       "      <td>2.501700</td>\n",
       "      <td>11898.932216</td>\n",
       "    </tr>\n",
       "    <tr>\n",
       "      <th>std</th>\n",
       "      <td>13.807724</td>\n",
       "      <td>7.22896</td>\n",
       "      <td>1.701672</td>\n",
       "      <td>6073.875834</td>\n",
       "    </tr>\n",
       "    <tr>\n",
       "      <th>min</th>\n",
       "      <td>18.000000</td>\n",
       "      <td>15.00000</td>\n",
       "      <td>0.000000</td>\n",
       "      <td>3617.090000</td>\n",
       "    </tr>\n",
       "    <tr>\n",
       "      <th>25%</th>\n",
       "      <td>30.000000</td>\n",
       "      <td>21.10000</td>\n",
       "      <td>1.000000</td>\n",
       "      <td>5909.925000</td>\n",
       "    </tr>\n",
       "    <tr>\n",
       "      <th>50%</th>\n",
       "      <td>42.000000</td>\n",
       "      <td>27.40000</td>\n",
       "      <td>2.000000</td>\n",
       "      <td>7957.430000</td>\n",
       "    </tr>\n",
       "    <tr>\n",
       "      <th>75%</th>\n",
       "      <td>54.000000</td>\n",
       "      <td>33.70000</td>\n",
       "      <td>4.000000</td>\n",
       "      <td>17931.962500</td>\n",
       "    </tr>\n",
       "    <tr>\n",
       "      <th>max</th>\n",
       "      <td>65.000000</td>\n",
       "      <td>40.00000</td>\n",
       "      <td>5.000000</td>\n",
       "      <td>20268.210000</td>\n",
       "    </tr>\n",
       "  </tbody>\n",
       "</table>\n",
       "</div>"
      ],
      "text/plain": [
       "                age          bmi      children  medical_cost\n",
       "count  10000.000000  10000.00000  10000.000000  10000.000000\n",
       "mean      41.678400     27.40301      2.501700  11898.932216\n",
       "std       13.807724      7.22896      1.701672   6073.875834\n",
       "min       18.000000     15.00000      0.000000   3617.090000\n",
       "25%       30.000000     21.10000      1.000000   5909.925000\n",
       "50%       42.000000     27.40000      2.000000   7957.430000\n",
       "75%       54.000000     33.70000      4.000000  17931.962500\n",
       "max       65.000000     40.00000      5.000000  20268.210000"
      ]
     },
     "execution_count": 31,
     "metadata": {},
     "output_type": "execute_result"
    }
   ],
   "source": [
    "df.describe()"
   ]
  },
  {
   "cell_type": "markdown",
   "id": "22c71d9a",
   "metadata": {},
   "source": [
    "#### Checking for no. of unique elements in each column "
   ]
  },
  {
   "cell_type": "code",
   "execution_count": 32,
   "id": "da8f2c1e",
   "metadata": {},
   "outputs": [
    {
     "data": {
      "application/vnd.microsoft.datawrangler.viewer.v0+json": {
       "columns": [
        {
         "name": "index",
         "rawType": "object",
         "type": "string"
        },
        {
         "name": "0",
         "rawType": "int64",
         "type": "integer"
        }
       ],
       "ref": "79686ef0-99ba-45be-8016-b3279c27d7ee",
       "rows": [
        [
         "age",
         "48"
        ],
        [
         "sex",
         "2"
        ],
        [
         "bmi",
         "251"
        ],
        [
         "children",
         "6"
        ],
        [
         "smoker",
         "2"
        ],
        [
         "region",
         "4"
        ],
        [
         "medical_cost",
         "9912"
        ]
       ],
       "shape": {
        "columns": 1,
        "rows": 7
       }
      },
      "text/plain": [
       "age               48\n",
       "sex                2\n",
       "bmi              251\n",
       "children           6\n",
       "smoker             2\n",
       "region             4\n",
       "medical_cost    9912\n",
       "dtype: int64"
      ]
     },
     "execution_count": 32,
     "metadata": {},
     "output_type": "execute_result"
    }
   ],
   "source": [
    "df.nunique()"
   ]
  },
  {
   "cell_type": "markdown",
   "id": "dee48593",
   "metadata": {},
   "source": [
    "#### Checking for null values in data"
   ]
  },
  {
   "cell_type": "code",
   "execution_count": 34,
   "id": "50c28c88",
   "metadata": {},
   "outputs": [
    {
     "data": {
      "application/vnd.microsoft.datawrangler.viewer.v0+json": {
       "columns": [
        {
         "name": "index",
         "rawType": "object",
         "type": "string"
        },
        {
         "name": "0",
         "rawType": "int64",
         "type": "integer"
        }
       ],
       "ref": "45e8a295-90ac-4fdd-8ba1-e04cf3166385",
       "rows": [
        [
         "age",
         "0"
        ],
        [
         "sex",
         "0"
        ],
        [
         "bmi",
         "0"
        ],
        [
         "children",
         "0"
        ],
        [
         "smoker",
         "0"
        ],
        [
         "region",
         "0"
        ],
        [
         "medical_cost",
         "0"
        ]
       ],
       "shape": {
        "columns": 1,
        "rows": 7
       }
      },
      "text/plain": [
       "age             0\n",
       "sex             0\n",
       "bmi             0\n",
       "children        0\n",
       "smoker          0\n",
       "region          0\n",
       "medical_cost    0\n",
       "dtype: int64"
      ]
     },
     "execution_count": 34,
     "metadata": {},
     "output_type": "execute_result"
    }
   ],
   "source": [
    "df.isnull().sum()"
   ]
  },
  {
   "cell_type": "code",
   "execution_count": 33,
   "id": "a432c1a0",
   "metadata": {},
   "outputs": [],
   "source": [
    "df.replace(\n",
    "    to_replace=[\"\", \" \", \"NA\", \"N/A\", \"None\", \"-\", \"nan\", \"null\", \"NULL\"],\n",
    "    value=np.nan,\n",
    "    inplace=True,\n",
    ")"
   ]
  },
  {
   "cell_type": "markdown",
   "id": "993ab50d",
   "metadata": {},
   "source": [
    "#### Handling missing values if outliers are present"
   ]
  },
  {
   "cell_type": "code",
   "execution_count": 35,
   "id": "ce81f287",
   "metadata": {},
   "outputs": [],
   "source": [
    "def outliers(data):\n",
    "    q1 = data.quantile(0.25)\n",
    "    q3 = data.quantile(0.75)\n",
    "    iqr = q3 - q1\n",
    "    lb = q1 - (iqr * 1.5)\n",
    "    ub = q3 + (iqr * 1.5)\n",
    "    outliers = data[(data < lb) | (data > ub)]\n",
    "    return outliers\n",
    "\n",
    "\n",
    "bmi = outliers(df[\"bmi\"])\n",
    "mc = outliers(df[\"medical_cost\"])\n",
    "\n",
    "\n",
    "def fill_missing_value(df, column, outliers):\n",
    "    if not outliers.empty:\n",
    "        df[column] = df[column].fillna(df[column].median())\n",
    "    else:\n",
    "        df[column] = df[column].fillna(df[column].mean())\n",
    "\n",
    "\n",
    "fill_missing_value(df, \"bmi\", bmi)\n",
    "fill_missing_value(df, \"medical_cost\", mc)"
   ]
  },
  {
   "cell_type": "markdown",
   "id": "ef4a8b55",
   "metadata": {},
   "source": [
    "#### Exporting cleaned data set"
   ]
  },
  {
   "cell_type": "code",
   "execution_count": 36,
   "id": "e8570935",
   "metadata": {},
   "outputs": [],
   "source": [
    "df.to_csv(\"../data/interim/medical_cost_interim.csv\", index=False)"
   ]
  }
 ],
 "metadata": {
  "kernelspec": {
   "display_name": ".venv (3.13.7)",
   "language": "python",
   "name": "python3"
  },
  "language_info": {
   "codemirror_mode": {
    "name": "ipython",
    "version": 3
   },
   "file_extension": ".py",
   "mimetype": "text/x-python",
   "name": "python",
   "nbconvert_exporter": "python",
   "pygments_lexer": "ipython3",
   "version": "3.13.7"
  }
 },
 "nbformat": 4,
 "nbformat_minor": 5
}
